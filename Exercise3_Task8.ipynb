{
 "cells": [
  {
   "cell_type": "code",
   "execution_count": 2,
   "id": "26d815e7",
   "metadata": {},
   "outputs": [
    {
     "name": "stdout",
     "output_type": "stream",
     "text": [
      "The magnetic rigidity is about 17.71 Tm.\n"
     ]
    }
   ],
   "source": [
    "# -*- coding: utf-8 -*-\n",
    "\"\"\"\n",
    "January 2023\n",
    "\n",
    "@author: Janina Hohnholz\n",
    "\"\"\"\n",
    "import numpy as np\n",
    "\n",
    "\n",
    "class beamparticle:\n",
    "    def __init__(self,e_kin,mass,charge): #for 190 [AMeV] 238-U-28+ insertion would be (190E6,238,+28)\n",
    "        self.q = abs(charge) * 1.602e-19 #multiples of e\n",
    "        self.mass = mass*1.66E-27\t#conversion to kg\n",
    "        self.gamma = e_kin*mass*1.602e-19/(self.mass * 3e8**2) + 1 #relativistic gamma\n",
    "        self.beta = np.sqrt(1-1/self.gamma**2) #lorentz factor\n",
    "\n",
    "    def get_rigidity(self):\n",
    "        return self.gamma * self.beta * self.mass*3e8 / self.q\n",
    "\n",
    "def main():\n",
    "     u_238 = beamparticle(190E6,238,+28)\n",
    "     print(f'The magnetic rigidity is about {u_238.get_rigidity():.2f} Tm.')\n",
    " \n",
    "if __name__ == '__main__':\n",
    "    main()"
   ]
  },
  {
   "cell_type": "code",
   "execution_count": null,
   "id": "ad185988",
   "metadata": {},
   "outputs": [],
   "source": []
  }
 ],
 "metadata": {
  "kernelspec": {
   "display_name": "Python 3",
   "language": "python",
   "name": "python3"
  },
  "language_info": {
   "codemirror_mode": {
    "name": "ipython",
    "version": 3
   },
   "file_extension": ".py",
   "mimetype": "text/x-python",
   "name": "python",
   "nbconvert_exporter": "python",
   "pygments_lexer": "ipython3",
   "version": "3.8.8"
  }
 },
 "nbformat": 4,
 "nbformat_minor": 5
}
