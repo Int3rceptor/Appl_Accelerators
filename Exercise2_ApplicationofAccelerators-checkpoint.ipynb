{
 "cells": [
  {
   "cell_type": "code",
   "execution_count": null,
   "id": "8d821ce8",
   "metadata": {},
   "outputs": [],
   "source": [
    "#@Janina Hohnholz\n",
    "#created: 15.11.2022\n",
    "#  [2 point]: write a python class for a particle, don't forget the init,\n",
    "#  by giving Z and A. this class should have a method which gives the number of neutron back.\n",
    "#  Instantiate this class with an example."
   ]
  },
  {
   "cell_type": "code",
   "execution_count": 21,
   "id": "a8a85f6f",
   "metadata": {},
   "outputs": [],
   "source": [
    "class particle:\n",
    "    def __init__(first,A,Z): #instantiate with massnumber and chargenumber\n",
    "        first.Z=Z\n",
    "        first.A=A\n",
    "    def neutrons(first): #method to return number of neutrons\n",
    "        first.N=first.A-first.Z\n",
    "    def output(first): #output to return the \n",
    "        print(f\"Your particle has a chargenumber of {first.Z}, the massnumber is about {first.A}.\")\n",
    "        print(f'It has a neutron number of {first.N}.')"
   ]
  },
  {
   "cell_type": "code",
   "execution_count": 22,
   "id": "1383770f",
   "metadata": {},
   "outputs": [
    {
     "name": "stdout",
     "output_type": "stream",
     "text": [
      "Your particle has a chargenumber of 9, the massnumber is about 18.\n",
      "It has a neutron number of 9.\n"
     ]
    }
   ],
   "source": [
    "#Example F-18\n",
    "F18=particle(18,9)\n",
    "F18.neutrons()\n",
    "F18.output()"
   ]
  },
  {
   "cell_type": "code",
   "execution_count": null,
   "id": "14cdd8fe",
   "metadata": {},
   "outputs": [],
   "source": []
  }
 ],
 "metadata": {
  "kernelspec": {
   "display_name": "Python 3",
   "language": "python",
   "name": "python3"
  },
  "language_info": {
   "codemirror_mode": {
    "name": "ipython",
    "version": 3
   },
   "file_extension": ".py",
   "mimetype": "text/x-python",
   "name": "python",
   "nbconvert_exporter": "python",
   "pygments_lexer": "ipython3",
   "version": "3.8.8"
  }
 },
 "nbformat": 4,
 "nbformat_minor": 5
}
