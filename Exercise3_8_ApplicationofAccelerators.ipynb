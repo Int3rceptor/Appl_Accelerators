# -*- coding: utf-8 -*-
"""
January 2023

@author: Janina Hohnholz
"""
import numpy as np


class beamparticle:
	def __init__(self,e_kin,mass,charge): #for 190 [AMeV] 238-U-28+ insertion would be (190E6,238,+28)
		self.q = abs(charge) * 1.602e-19 #multiples of e
		self.mass = mass*1.66E-27	#conversion to kg
		self.gamma = e_kin*mass*1.602e-19/(self.mass * 3e8**2) + 1 #relativistic gamma
		self.beta = np.sqrt(1-1/self.gamma**2) #lorentz factor

	def get_rigidity(self):
		return self.gamma * self.beta * self.mass*3e8 / self.q

def main():
 	u_238 = beamparticle(190E6,238,+28)
 	print(f'The magnetic rigidity is about {u_238.get_rigidity():.2f} Tm.')
 
if __name__ == '__main__':
    main()