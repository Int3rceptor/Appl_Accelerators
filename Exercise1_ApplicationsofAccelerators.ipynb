{
 "cells": [
  {
   "cell_type": "markdown",
   "id": "38a68fbf",
   "metadata": {},
   "source": [
    "### Exercise 1"
   ]
  },
  {
   "cell_type": "code",
   "execution_count": 40,
   "id": "3c9c3003",
   "metadata": {},
   "outputs": [],
   "source": [
    "#@Janina Hohnholz, FH Aachen Campus Jülich, FB3\n",
    "\n",
    "import numpy as np     #import all the directories needed, avoid star/master imports\n",
    " \n",
    "def multiply(A,B):     #defintion of the function \n",
    "    result=np.dot(A,B)\n",
    "    print(result)"
   ]
  },
  {
   "cell_type": "code",
   "execution_count": 41,
   "id": "05d6d1a8",
   "metadata": {},
   "outputs": [],
   "source": [
    "x=np.random.rand(3,3)  #creating first random array\n",
    "#print(x)              #for validation only\n",
    "y=np.random.rand(3,3)  #creating second random array\n",
    "#print(y)              #for validation only"
   ]
  },
  {
   "cell_type": "code",
   "execution_count": 42,
   "id": "b95283de",
   "metadata": {},
   "outputs": [
    {
     "name": "stdout",
     "output_type": "stream",
     "text": [
      "[[0.60933799 0.36122272 0.65378983]\n",
      " [0.94430786 0.7757858  0.80363276]\n",
      " [0.76386682 0.70075797 0.64848355]]\n"
     ]
    }
   ],
   "source": [
    "multiply(x,y)          #function calling"
   ]
  },
  {
   "cell_type": "code",
   "execution_count": null,
   "id": "50d6700a",
   "metadata": {},
   "outputs": [],
   "source": []
  },
  {
   "cell_type": "code",
   "execution_count": null,
   "id": "e0f83d21",
   "metadata": {},
   "outputs": [],
   "source": []
  },
  {
   "cell_type": "code",
   "execution_count": null,
   "id": "97149314",
   "metadata": {},
   "outputs": [],
   "source": []
  }
 ],
 "metadata": {
  "kernelspec": {
   "display_name": "Python 3",
   "language": "python",
   "name": "python3"
  },
  "language_info": {
   "codemirror_mode": {
    "name": "ipython",
    "version": 3
   },
   "file_extension": ".py",
   "mimetype": "text/x-python",
   "name": "python",
   "nbconvert_exporter": "python",
   "pygments_lexer": "ipython3",
   "version": "3.8.8"
  }
 },
 "nbformat": 4,
 "nbformat_minor": 5
}
